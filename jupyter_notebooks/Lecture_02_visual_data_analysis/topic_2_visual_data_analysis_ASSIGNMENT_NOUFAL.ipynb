{
  "nbformat": 4,
  "nbformat_minor": 0,
  "metadata": {
    "anaconda-cloud": {},
    "kernelspec": {
      "display_name": "Python 3",
      "language": "python",
      "name": "python3"
    },
    "language_info": {
      "codemirror_mode": {
        "name": "ipython",
        "version": 3
      },
      "file_extension": ".py",
      "mimetype": "text/x-python",
      "name": "python",
      "nbconvert_exporter": "python",
      "pygments_lexer": "ipython3",
      "version": "3.7.5"
    },
    "toc": {
      "base_numbering": 1,
      "nav_menu": {},
      "number_sections": true,
      "sideBar": true,
      "skip_h1_title": false,
      "title_cell": "Table of Contents",
      "title_sidebar": "Contents",
      "toc_cell": false,
      "toc_position": {},
      "toc_section_display": true,
      "toc_window_display": false
    },
    "colab": {
      "name": "topic-2-visual-data-analysis_ASSIGNMENTDone.ipynb",
      "provenance": [],
      "collapsed_sections": [],
      "toc_visible": true
    }
  },
  "cells": [
    {
      "cell_type": "markdown",
      "metadata": {
        "id": "UIQkzrmh6ncM",
        "colab_type": "text"
      },
      "source": [
        "<center>\n",
        "<img src=\"https://habrastorage.org/webt/ia/m9/zk/iam9zkyzqebnf_okxipihkgjwnw.jpeg\">\n",
        "    \n",
        "## [mlcourse.ai](mlcourse.ai) – Open Machine Learning Course \n",
        "\n",
        "Author: [Yury Kashnitskiy](https://yorko.github.io). \n",
        "Translated and edited by [Maxim Keremet](https://www.linkedin.com/in/maximkeremet/), [Artem Trunov](https://www.linkedin.com/in/datamove/), and [Aditya Soni](https://www.linkedin.com/in/aditya-soni-0505a9124/). This material is subject to the terms and conditions of the [Creative Commons CC BY-NC-SA 4.0](https://creativecommons.org/licenses/by-nc-sa/4.0/) license. Free use is permitted for any non-commercial purpose."
      ]
    },
    {
      "cell_type": "markdown",
      "metadata": {
        "id": "InwoQhvc6ncN",
        "colab_type": "text"
      },
      "source": [
        "# <center> Assignment #2. <br> Visual data analysis in Python: EDA of US flights <br> (using Pandas, Matplotlib & Seaborn & Plotly)\n",
        "\n",
        "<img src='../../img/flight.png' width=50%>\n",
        "\n",
        "\n",
        "* **Your task** is to write code and perform computations in the cells below\n",
        "\n",
        "* **Deadline for A2**: 2020 April 07, 23:59 PM"
      ]
    },
    {
      "cell_type": "code",
      "metadata": {
        "id": "cnI-JDiR67O0",
        "colab_type": "code",
        "outputId": "52dfa4d0-6c76-4d43-bfb9-2ad1b6882d7c",
        "colab": {
          "base_uri": "https://localhost:8080/",
          "height": 69
        }
      },
      "source": [
        "!pip install plotly"
      ],
      "execution_count": 0,
      "outputs": [
        {
          "output_type": "stream",
          "text": [
            "Requirement already satisfied: plotly in /usr/local/lib/python3.6/dist-packages (4.4.1)\n",
            "Requirement already satisfied: retrying>=1.3.3 in /usr/local/lib/python3.6/dist-packages (from plotly) (1.3.3)\n",
            "Requirement already satisfied: six in /usr/local/lib/python3.6/dist-packages (from plotly) (1.12.0)\n"
          ],
          "name": "stdout"
        }
      ]
    },
    {
      "cell_type": "code",
      "metadata": {
        "ExecuteTime": {
          "end_time": "2020-04-05T11:11:07.925199Z",
          "start_time": "2020-04-05T11:11:07.061381Z"
        },
        "id": "ZwALt7Ig6ncO",
        "colab_type": "code",
        "colab": {}
      },
      "source": [
        "import numpy as np\n",
        "import pandas as pd\n",
        "\n",
        "import seaborn as sns\n",
        "import matplotlib.pyplot as plt\n",
        "\n",
        "import plotly.graph_objs as go\n",
        "import plotly.express as px"
      ],
      "execution_count": 0,
      "outputs": []
    },
    {
      "cell_type": "markdown",
      "metadata": {
        "id": "bay7MLr-6ncW",
        "colab_type": "text"
      },
      "source": [
        "* Download the data [archive](http://www.rdatasciencecases.org/Data/Airline/2008.csv.bz2) (Archived ~ 114 Mb, unzipped - ~ 690 Mb). No need to unzip - pandas can unbzip on the fly.\n",
        "* Place it in the \"../../data\" folder, or change the path below according to your location.\n",
        "* The dataset has information about carriers and flights between US airports during the year 2008. \n",
        "* Column description is available [here](http://www.transtats.bts.gov/Fields.asp?Table_ID=236). Visit this site to find ex. meaning of flight cancellation codes."
      ]
    },
    {
      "cell_type": "markdown",
      "metadata": {
        "id": "9gdm8_tD6ncX",
        "colab_type": "text"
      },
      "source": [
        "**Reading data into memory and creating a Pandas _DataFrame_ object**\n",
        "\n",
        "(This may take a while, be patient)\n",
        "\n",
        "We are not going to read in the whole dataset. In order to reduce memory footprint, we instead load only needed columns and cast them suitable data types."
      ]
    },
    {
      "cell_type": "code",
      "metadata": {
        "ExecuteTime": {
          "end_time": "2020-04-05T11:11:07.929703Z",
          "start_time": "2020-04-05T11:11:07.926289Z"
        },
        "id": "F_MTuFip6ncY",
        "colab_type": "code",
        "colab": {}
      },
      "source": [
        "dtype = {'DayOfWeek': np.uint8, 'DayofMonth': np.uint8, 'Month': np.uint8 , 'Cancelled': np.uint8, \n",
        "         'Year': np.uint16, 'FlightNum': np.uint16 , 'Distance': np.uint16, \n",
        "         'UniqueCarrier': str, 'CancellationCode': str, 'Origin': str, 'Dest': str,\n",
        "         'ArrDelay': np.float16, 'DepDelay': np.float16, 'CarrierDelay': np.float16,\n",
        "         'WeatherDelay': np.float16, 'NASDelay': np.float16, 'SecurityDelay': np.float16,\n",
        "         'LateAircraftDelay': np.float16, 'DepTime': np.float16}"
      ],
      "execution_count": 0,
      "outputs": []
    },
    {
      "cell_type": "code",
      "metadata": {
        "ExecuteTime": {
          "end_time": "2020-04-05T11:11:33.078537Z",
          "start_time": "2020-04-05T11:11:07.931002Z"
        },
        "id": "ut5NcN7c6ncd",
        "colab_type": "code",
        "outputId": "0d577dfa-5718-4c8f-bce1-521c5f3ff52a",
        "colab": {
          "base_uri": "https://localhost:8080/",
          "height": 52
        }
      },
      "source": [
        "%%time\n",
        "# change the path if needed\n",
        "path = './2008.csv.bz2'\n",
        "flights_df = pd.read_csv(path, usecols=dtype.keys(), dtype=dtype)"
      ],
      "execution_count": 0,
      "outputs": [
        {
          "output_type": "stream",
          "text": [
            "CPU times: user 38.9 s, sys: 1.07 s, total: 40 s\n",
            "Wall time: 40 s\n"
          ],
          "name": "stdout"
        }
      ]
    },
    {
      "cell_type": "code",
      "metadata": {
        "id": "oWYq72tT6ncj",
        "colab_type": "code",
        "outputId": "6a43b87b-74ac-493a-f3e0-4ca9a233e4c4",
        "colab": {
          "base_uri": "https://localhost:8080/",
          "height": 222
        }
      },
      "source": [
        "flights_df.head()"
      ],
      "execution_count": 0,
      "outputs": [
        {
          "output_type": "execute_result",
          "data": {
            "text/html": [
              "<div>\n",
              "<style scoped>\n",
              "    .dataframe tbody tr th:only-of-type {\n",
              "        vertical-align: middle;\n",
              "    }\n",
              "\n",
              "    .dataframe tbody tr th {\n",
              "        vertical-align: top;\n",
              "    }\n",
              "\n",
              "    .dataframe thead th {\n",
              "        text-align: right;\n",
              "    }\n",
              "</style>\n",
              "<table border=\"1\" class=\"dataframe\">\n",
              "  <thead>\n",
              "    <tr style=\"text-align: right;\">\n",
              "      <th></th>\n",
              "      <th>Year</th>\n",
              "      <th>Month</th>\n",
              "      <th>DayofMonth</th>\n",
              "      <th>DayOfWeek</th>\n",
              "      <th>DepTime</th>\n",
              "      <th>UniqueCarrier</th>\n",
              "      <th>FlightNum</th>\n",
              "      <th>ArrDelay</th>\n",
              "      <th>DepDelay</th>\n",
              "      <th>Origin</th>\n",
              "      <th>Dest</th>\n",
              "      <th>Distance</th>\n",
              "      <th>Cancelled</th>\n",
              "      <th>CancellationCode</th>\n",
              "      <th>CarrierDelay</th>\n",
              "      <th>WeatherDelay</th>\n",
              "      <th>NASDelay</th>\n",
              "      <th>SecurityDelay</th>\n",
              "      <th>LateAircraftDelay</th>\n",
              "    </tr>\n",
              "  </thead>\n",
              "  <tbody>\n",
              "    <tr>\n",
              "      <th>0</th>\n",
              "      <td>2008</td>\n",
              "      <td>1</td>\n",
              "      <td>3</td>\n",
              "      <td>4</td>\n",
              "      <td>2003.0</td>\n",
              "      <td>WN</td>\n",
              "      <td>335</td>\n",
              "      <td>-14.0</td>\n",
              "      <td>8.0</td>\n",
              "      <td>IAD</td>\n",
              "      <td>TPA</td>\n",
              "      <td>810</td>\n",
              "      <td>0</td>\n",
              "      <td>NaN</td>\n",
              "      <td>NaN</td>\n",
              "      <td>NaN</td>\n",
              "      <td>NaN</td>\n",
              "      <td>NaN</td>\n",
              "      <td>NaN</td>\n",
              "    </tr>\n",
              "    <tr>\n",
              "      <th>1</th>\n",
              "      <td>2008</td>\n",
              "      <td>1</td>\n",
              "      <td>3</td>\n",
              "      <td>4</td>\n",
              "      <td>754.0</td>\n",
              "      <td>WN</td>\n",
              "      <td>3231</td>\n",
              "      <td>2.0</td>\n",
              "      <td>19.0</td>\n",
              "      <td>IAD</td>\n",
              "      <td>TPA</td>\n",
              "      <td>810</td>\n",
              "      <td>0</td>\n",
              "      <td>NaN</td>\n",
              "      <td>NaN</td>\n",
              "      <td>NaN</td>\n",
              "      <td>NaN</td>\n",
              "      <td>NaN</td>\n",
              "      <td>NaN</td>\n",
              "    </tr>\n",
              "    <tr>\n",
              "      <th>2</th>\n",
              "      <td>2008</td>\n",
              "      <td>1</td>\n",
              "      <td>3</td>\n",
              "      <td>4</td>\n",
              "      <td>628.0</td>\n",
              "      <td>WN</td>\n",
              "      <td>448</td>\n",
              "      <td>14.0</td>\n",
              "      <td>8.0</td>\n",
              "      <td>IND</td>\n",
              "      <td>BWI</td>\n",
              "      <td>515</td>\n",
              "      <td>0</td>\n",
              "      <td>NaN</td>\n",
              "      <td>NaN</td>\n",
              "      <td>NaN</td>\n",
              "      <td>NaN</td>\n",
              "      <td>NaN</td>\n",
              "      <td>NaN</td>\n",
              "    </tr>\n",
              "    <tr>\n",
              "      <th>3</th>\n",
              "      <td>2008</td>\n",
              "      <td>1</td>\n",
              "      <td>3</td>\n",
              "      <td>4</td>\n",
              "      <td>926.0</td>\n",
              "      <td>WN</td>\n",
              "      <td>1746</td>\n",
              "      <td>-6.0</td>\n",
              "      <td>-4.0</td>\n",
              "      <td>IND</td>\n",
              "      <td>BWI</td>\n",
              "      <td>515</td>\n",
              "      <td>0</td>\n",
              "      <td>NaN</td>\n",
              "      <td>NaN</td>\n",
              "      <td>NaN</td>\n",
              "      <td>NaN</td>\n",
              "      <td>NaN</td>\n",
              "      <td>NaN</td>\n",
              "    </tr>\n",
              "    <tr>\n",
              "      <th>4</th>\n",
              "      <td>2008</td>\n",
              "      <td>1</td>\n",
              "      <td>3</td>\n",
              "      <td>4</td>\n",
              "      <td>1829.0</td>\n",
              "      <td>WN</td>\n",
              "      <td>3920</td>\n",
              "      <td>34.0</td>\n",
              "      <td>34.0</td>\n",
              "      <td>IND</td>\n",
              "      <td>BWI</td>\n",
              "      <td>515</td>\n",
              "      <td>0</td>\n",
              "      <td>NaN</td>\n",
              "      <td>2.0</td>\n",
              "      <td>0.0</td>\n",
              "      <td>0.0</td>\n",
              "      <td>0.0</td>\n",
              "      <td>32.0</td>\n",
              "    </tr>\n",
              "  </tbody>\n",
              "</table>\n",
              "</div>"
            ],
            "text/plain": [
              "   Year  Month  DayofMonth  ...  NASDelay  SecurityDelay LateAircraftDelay\n",
              "0  2008      1           3  ...       NaN            NaN               NaN\n",
              "1  2008      1           3  ...       NaN            NaN               NaN\n",
              "2  2008      1           3  ...       NaN            NaN               NaN\n",
              "3  2008      1           3  ...       NaN            NaN               NaN\n",
              "4  2008      1           3  ...       0.0            0.0              32.0\n",
              "\n",
              "[5 rows x 19 columns]"
            ]
          },
          "metadata": {
            "tags": []
          },
          "execution_count": 6
        }
      ]
    },
    {
      "cell_type": "markdown",
      "metadata": {
        "id": "bCuC8dNR6nco",
        "colab_type": "text"
      },
      "source": [
        "**Check the number of rows and columns and print column names.**"
      ]
    },
    {
      "cell_type": "code",
      "metadata": {
        "ExecuteTime": {
          "end_time": "2020-04-05T11:11:33.082381Z",
          "start_time": "2020-04-05T11:11:33.079821Z"
        },
        "id": "3uUotYEk6ncp",
        "colab_type": "code",
        "outputId": "e69e8aa3-6cf0-4492-b9d9-fab246e3d04d",
        "colab": {
          "base_uri": "https://localhost:8080/",
          "height": 121
        }
      },
      "source": [
        "print(flights_df.shape)\n",
        "print(flights_df.columns)"
      ],
      "execution_count": 0,
      "outputs": [
        {
          "output_type": "stream",
          "text": [
            "(7009728, 19)\n",
            "Index(['Year', 'Month', 'DayofMonth', 'DayOfWeek', 'DepTime', 'UniqueCarrier',\n",
            "       'FlightNum', 'ArrDelay', 'DepDelay', 'Origin', 'Dest', 'Distance',\n",
            "       'Cancelled', 'CancellationCode', 'CarrierDelay', 'WeatherDelay',\n",
            "       'NASDelay', 'SecurityDelay', 'LateAircraftDelay'],\n",
            "      dtype='object')\n"
          ],
          "name": "stdout"
        }
      ]
    },
    {
      "cell_type": "markdown",
      "metadata": {
        "id": "r2ydT3wC6ncu",
        "colab_type": "text"
      },
      "source": [
        "**Print first 5 rows of the dataset.**"
      ]
    },
    {
      "cell_type": "code",
      "metadata": {
        "ExecuteTime": {
          "end_time": "2020-04-05T11:11:33.103520Z",
          "start_time": "2020-04-05T11:11:33.083328Z"
        },
        "id": "Bbltp64D6ncv",
        "colab_type": "code",
        "outputId": "44d791ef-70fe-4308-d768-330e69f665ee",
        "colab": {
          "base_uri": "https://localhost:8080/",
          "height": 222
        }
      },
      "source": [
        "flights_df.head()"
      ],
      "execution_count": 0,
      "outputs": [
        {
          "output_type": "execute_result",
          "data": {
            "text/html": [
              "<div>\n",
              "<style scoped>\n",
              "    .dataframe tbody tr th:only-of-type {\n",
              "        vertical-align: middle;\n",
              "    }\n",
              "\n",
              "    .dataframe tbody tr th {\n",
              "        vertical-align: top;\n",
              "    }\n",
              "\n",
              "    .dataframe thead th {\n",
              "        text-align: right;\n",
              "    }\n",
              "</style>\n",
              "<table border=\"1\" class=\"dataframe\">\n",
              "  <thead>\n",
              "    <tr style=\"text-align: right;\">\n",
              "      <th></th>\n",
              "      <th>Year</th>\n",
              "      <th>Month</th>\n",
              "      <th>DayofMonth</th>\n",
              "      <th>DayOfWeek</th>\n",
              "      <th>DepTime</th>\n",
              "      <th>UniqueCarrier</th>\n",
              "      <th>FlightNum</th>\n",
              "      <th>ArrDelay</th>\n",
              "      <th>DepDelay</th>\n",
              "      <th>Origin</th>\n",
              "      <th>Dest</th>\n",
              "      <th>Distance</th>\n",
              "      <th>Cancelled</th>\n",
              "      <th>CancellationCode</th>\n",
              "      <th>CarrierDelay</th>\n",
              "      <th>WeatherDelay</th>\n",
              "      <th>NASDelay</th>\n",
              "      <th>SecurityDelay</th>\n",
              "      <th>LateAircraftDelay</th>\n",
              "    </tr>\n",
              "  </thead>\n",
              "  <tbody>\n",
              "    <tr>\n",
              "      <th>0</th>\n",
              "      <td>2008</td>\n",
              "      <td>1</td>\n",
              "      <td>3</td>\n",
              "      <td>4</td>\n",
              "      <td>2003.0</td>\n",
              "      <td>WN</td>\n",
              "      <td>335</td>\n",
              "      <td>-14.0</td>\n",
              "      <td>8.0</td>\n",
              "      <td>IAD</td>\n",
              "      <td>TPA</td>\n",
              "      <td>810</td>\n",
              "      <td>0</td>\n",
              "      <td>NaN</td>\n",
              "      <td>NaN</td>\n",
              "      <td>NaN</td>\n",
              "      <td>NaN</td>\n",
              "      <td>NaN</td>\n",
              "      <td>NaN</td>\n",
              "    </tr>\n",
              "    <tr>\n",
              "      <th>1</th>\n",
              "      <td>2008</td>\n",
              "      <td>1</td>\n",
              "      <td>3</td>\n",
              "      <td>4</td>\n",
              "      <td>754.0</td>\n",
              "      <td>WN</td>\n",
              "      <td>3231</td>\n",
              "      <td>2.0</td>\n",
              "      <td>19.0</td>\n",
              "      <td>IAD</td>\n",
              "      <td>TPA</td>\n",
              "      <td>810</td>\n",
              "      <td>0</td>\n",
              "      <td>NaN</td>\n",
              "      <td>NaN</td>\n",
              "      <td>NaN</td>\n",
              "      <td>NaN</td>\n",
              "      <td>NaN</td>\n",
              "      <td>NaN</td>\n",
              "    </tr>\n",
              "    <tr>\n",
              "      <th>2</th>\n",
              "      <td>2008</td>\n",
              "      <td>1</td>\n",
              "      <td>3</td>\n",
              "      <td>4</td>\n",
              "      <td>628.0</td>\n",
              "      <td>WN</td>\n",
              "      <td>448</td>\n",
              "      <td>14.0</td>\n",
              "      <td>8.0</td>\n",
              "      <td>IND</td>\n",
              "      <td>BWI</td>\n",
              "      <td>515</td>\n",
              "      <td>0</td>\n",
              "      <td>NaN</td>\n",
              "      <td>NaN</td>\n",
              "      <td>NaN</td>\n",
              "      <td>NaN</td>\n",
              "      <td>NaN</td>\n",
              "      <td>NaN</td>\n",
              "    </tr>\n",
              "    <tr>\n",
              "      <th>3</th>\n",
              "      <td>2008</td>\n",
              "      <td>1</td>\n",
              "      <td>3</td>\n",
              "      <td>4</td>\n",
              "      <td>926.0</td>\n",
              "      <td>WN</td>\n",
              "      <td>1746</td>\n",
              "      <td>-6.0</td>\n",
              "      <td>-4.0</td>\n",
              "      <td>IND</td>\n",
              "      <td>BWI</td>\n",
              "      <td>515</td>\n",
              "      <td>0</td>\n",
              "      <td>NaN</td>\n",
              "      <td>NaN</td>\n",
              "      <td>NaN</td>\n",
              "      <td>NaN</td>\n",
              "      <td>NaN</td>\n",
              "      <td>NaN</td>\n",
              "    </tr>\n",
              "    <tr>\n",
              "      <th>4</th>\n",
              "      <td>2008</td>\n",
              "      <td>1</td>\n",
              "      <td>3</td>\n",
              "      <td>4</td>\n",
              "      <td>1829.0</td>\n",
              "      <td>WN</td>\n",
              "      <td>3920</td>\n",
              "      <td>34.0</td>\n",
              "      <td>34.0</td>\n",
              "      <td>IND</td>\n",
              "      <td>BWI</td>\n",
              "      <td>515</td>\n",
              "      <td>0</td>\n",
              "      <td>NaN</td>\n",
              "      <td>2.0</td>\n",
              "      <td>0.0</td>\n",
              "      <td>0.0</td>\n",
              "      <td>0.0</td>\n",
              "      <td>32.0</td>\n",
              "    </tr>\n",
              "  </tbody>\n",
              "</table>\n",
              "</div>"
            ],
            "text/plain": [
              "   Year  Month  DayofMonth  ...  NASDelay  SecurityDelay LateAircraftDelay\n",
              "0  2008      1           3  ...       NaN            NaN               NaN\n",
              "1  2008      1           3  ...       NaN            NaN               NaN\n",
              "2  2008      1           3  ...       NaN            NaN               NaN\n",
              "3  2008      1           3  ...       NaN            NaN               NaN\n",
              "4  2008      1           3  ...       0.0            0.0              32.0\n",
              "\n",
              "[5 rows x 19 columns]"
            ]
          },
          "metadata": {
            "tags": []
          },
          "execution_count": 9
        }
      ]
    },
    {
      "cell_type": "markdown",
      "metadata": {
        "id": "Y4XTG9R36nc2",
        "colab_type": "text"
      },
      "source": [
        "**Transpose the frame to see all features at once.**"
      ]
    },
    {
      "cell_type": "code",
      "metadata": {
        "ExecuteTime": {
          "end_time": "2020-04-05T11:11:33.120308Z",
          "start_time": "2020-04-05T11:11:33.104953Z"
        },
        "id": "-peU2wwZ6nc3",
        "colab_type": "code",
        "outputId": "7bf4d3d1-7902-41d5-8bc8-0c730ac1578c",
        "colab": {
          "base_uri": "https://localhost:8080/",
          "height": 631
        }
      },
      "source": [
        "flights_df.head().T"
      ],
      "execution_count": 0,
      "outputs": [
        {
          "output_type": "execute_result",
          "data": {
            "text/html": [
              "<div>\n",
              "<style scoped>\n",
              "    .dataframe tbody tr th:only-of-type {\n",
              "        vertical-align: middle;\n",
              "    }\n",
              "\n",
              "    .dataframe tbody tr th {\n",
              "        vertical-align: top;\n",
              "    }\n",
              "\n",
              "    .dataframe thead th {\n",
              "        text-align: right;\n",
              "    }\n",
              "</style>\n",
              "<table border=\"1\" class=\"dataframe\">\n",
              "  <thead>\n",
              "    <tr style=\"text-align: right;\">\n",
              "      <th></th>\n",
              "      <th>0</th>\n",
              "      <th>1</th>\n",
              "      <th>2</th>\n",
              "      <th>3</th>\n",
              "      <th>4</th>\n",
              "    </tr>\n",
              "  </thead>\n",
              "  <tbody>\n",
              "    <tr>\n",
              "      <th>Year</th>\n",
              "      <td>2008</td>\n",
              "      <td>2008</td>\n",
              "      <td>2008</td>\n",
              "      <td>2008</td>\n",
              "      <td>2008</td>\n",
              "    </tr>\n",
              "    <tr>\n",
              "      <th>Month</th>\n",
              "      <td>1</td>\n",
              "      <td>1</td>\n",
              "      <td>1</td>\n",
              "      <td>1</td>\n",
              "      <td>1</td>\n",
              "    </tr>\n",
              "    <tr>\n",
              "      <th>DayofMonth</th>\n",
              "      <td>3</td>\n",
              "      <td>3</td>\n",
              "      <td>3</td>\n",
              "      <td>3</td>\n",
              "      <td>3</td>\n",
              "    </tr>\n",
              "    <tr>\n",
              "      <th>DayOfWeek</th>\n",
              "      <td>4</td>\n",
              "      <td>4</td>\n",
              "      <td>4</td>\n",
              "      <td>4</td>\n",
              "      <td>4</td>\n",
              "    </tr>\n",
              "    <tr>\n",
              "      <th>DepTime</th>\n",
              "      <td>2003</td>\n",
              "      <td>754</td>\n",
              "      <td>628</td>\n",
              "      <td>926</td>\n",
              "      <td>1829</td>\n",
              "    </tr>\n",
              "    <tr>\n",
              "      <th>UniqueCarrier</th>\n",
              "      <td>WN</td>\n",
              "      <td>WN</td>\n",
              "      <td>WN</td>\n",
              "      <td>WN</td>\n",
              "      <td>WN</td>\n",
              "    </tr>\n",
              "    <tr>\n",
              "      <th>FlightNum</th>\n",
              "      <td>335</td>\n",
              "      <td>3231</td>\n",
              "      <td>448</td>\n",
              "      <td>1746</td>\n",
              "      <td>3920</td>\n",
              "    </tr>\n",
              "    <tr>\n",
              "      <th>ArrDelay</th>\n",
              "      <td>-14</td>\n",
              "      <td>2</td>\n",
              "      <td>14</td>\n",
              "      <td>-6</td>\n",
              "      <td>34</td>\n",
              "    </tr>\n",
              "    <tr>\n",
              "      <th>DepDelay</th>\n",
              "      <td>8</td>\n",
              "      <td>19</td>\n",
              "      <td>8</td>\n",
              "      <td>-4</td>\n",
              "      <td>34</td>\n",
              "    </tr>\n",
              "    <tr>\n",
              "      <th>Origin</th>\n",
              "      <td>IAD</td>\n",
              "      <td>IAD</td>\n",
              "      <td>IND</td>\n",
              "      <td>IND</td>\n",
              "      <td>IND</td>\n",
              "    </tr>\n",
              "    <tr>\n",
              "      <th>Dest</th>\n",
              "      <td>TPA</td>\n",
              "      <td>TPA</td>\n",
              "      <td>BWI</td>\n",
              "      <td>BWI</td>\n",
              "      <td>BWI</td>\n",
              "    </tr>\n",
              "    <tr>\n",
              "      <th>Distance</th>\n",
              "      <td>810</td>\n",
              "      <td>810</td>\n",
              "      <td>515</td>\n",
              "      <td>515</td>\n",
              "      <td>515</td>\n",
              "    </tr>\n",
              "    <tr>\n",
              "      <th>Cancelled</th>\n",
              "      <td>0</td>\n",
              "      <td>0</td>\n",
              "      <td>0</td>\n",
              "      <td>0</td>\n",
              "      <td>0</td>\n",
              "    </tr>\n",
              "    <tr>\n",
              "      <th>CancellationCode</th>\n",
              "      <td>NaN</td>\n",
              "      <td>NaN</td>\n",
              "      <td>NaN</td>\n",
              "      <td>NaN</td>\n",
              "      <td>NaN</td>\n",
              "    </tr>\n",
              "    <tr>\n",
              "      <th>CarrierDelay</th>\n",
              "      <td>NaN</td>\n",
              "      <td>NaN</td>\n",
              "      <td>NaN</td>\n",
              "      <td>NaN</td>\n",
              "      <td>2</td>\n",
              "    </tr>\n",
              "    <tr>\n",
              "      <th>WeatherDelay</th>\n",
              "      <td>NaN</td>\n",
              "      <td>NaN</td>\n",
              "      <td>NaN</td>\n",
              "      <td>NaN</td>\n",
              "      <td>0</td>\n",
              "    </tr>\n",
              "    <tr>\n",
              "      <th>NASDelay</th>\n",
              "      <td>NaN</td>\n",
              "      <td>NaN</td>\n",
              "      <td>NaN</td>\n",
              "      <td>NaN</td>\n",
              "      <td>0</td>\n",
              "    </tr>\n",
              "    <tr>\n",
              "      <th>SecurityDelay</th>\n",
              "      <td>NaN</td>\n",
              "      <td>NaN</td>\n",
              "      <td>NaN</td>\n",
              "      <td>NaN</td>\n",
              "      <td>0</td>\n",
              "    </tr>\n",
              "    <tr>\n",
              "      <th>LateAircraftDelay</th>\n",
              "      <td>NaN</td>\n",
              "      <td>NaN</td>\n",
              "      <td>NaN</td>\n",
              "      <td>NaN</td>\n",
              "      <td>32</td>\n",
              "    </tr>\n",
              "  </tbody>\n",
              "</table>\n",
              "</div>"
            ],
            "text/plain": [
              "                      0     1     2     3     4\n",
              "Year               2008  2008  2008  2008  2008\n",
              "Month                 1     1     1     1     1\n",
              "DayofMonth            3     3     3     3     3\n",
              "DayOfWeek             4     4     4     4     4\n",
              "DepTime            2003   754   628   926  1829\n",
              "UniqueCarrier        WN    WN    WN    WN    WN\n",
              "FlightNum           335  3231   448  1746  3920\n",
              "ArrDelay            -14     2    14    -6    34\n",
              "DepDelay              8    19     8    -4    34\n",
              "Origin              IAD   IAD   IND   IND   IND\n",
              "Dest                TPA   TPA   BWI   BWI   BWI\n",
              "Distance            810   810   515   515   515\n",
              "Cancelled             0     0     0     0     0\n",
              "CancellationCode    NaN   NaN   NaN   NaN   NaN\n",
              "CarrierDelay        NaN   NaN   NaN   NaN     2\n",
              "WeatherDelay        NaN   NaN   NaN   NaN     0\n",
              "NASDelay            NaN   NaN   NaN   NaN     0\n",
              "SecurityDelay       NaN   NaN   NaN   NaN     0\n",
              "LateAircraftDelay   NaN   NaN   NaN   NaN    32"
            ]
          },
          "metadata": {
            "tags": []
          },
          "execution_count": 10
        }
      ]
    },
    {
      "cell_type": "markdown",
      "metadata": {
        "id": "C1h3O6426nc9",
        "colab_type": "text"
      },
      "source": [
        "**Examine data types of all features and total dataframe size in memory.**"
      ]
    },
    {
      "cell_type": "code",
      "metadata": {
        "ExecuteTime": {
          "end_time": "2020-04-05T11:11:33.132910Z",
          "start_time": "2020-04-05T11:11:33.121385Z"
        },
        "id": "xNfTHo-P6nc-",
        "colab_type": "code",
        "outputId": "e153a80b-b65d-47fc-8892-bdefeb7fdd0d",
        "colab": {
          "base_uri": "https://localhost:8080/",
          "height": 468
        }
      },
      "source": [
        "flights_df.info()"
      ],
      "execution_count": 0,
      "outputs": [
        {
          "output_type": "stream",
          "text": [
            "<class 'pandas.core.frame.DataFrame'>\n",
            "RangeIndex: 7009728 entries, 0 to 7009727\n",
            "Data columns (total 19 columns):\n",
            " #   Column             Dtype  \n",
            "---  ------             -----  \n",
            " 0   Year               uint16 \n",
            " 1   Month              uint8  \n",
            " 2   DayofMonth         uint8  \n",
            " 3   DayOfWeek          uint8  \n",
            " 4   DepTime            float16\n",
            " 5   UniqueCarrier      object \n",
            " 6   FlightNum          uint16 \n",
            " 7   ArrDelay           float16\n",
            " 8   DepDelay           float16\n",
            " 9   Origin             object \n",
            " 10  Dest               object \n",
            " 11  Distance           uint16 \n",
            " 12  Cancelled          uint8  \n",
            " 13  CancellationCode   object \n",
            " 14  CarrierDelay       float16\n",
            " 15  WeatherDelay       float16\n",
            " 16  NASDelay           float16\n",
            " 17  SecurityDelay      float16\n",
            " 18  LateAircraftDelay  float16\n",
            "dtypes: float16(8), object(4), uint16(3), uint8(4)\n",
            "memory usage: 387.7+ MB\n"
          ],
          "name": "stdout"
        }
      ]
    },
    {
      "cell_type": "markdown",
      "metadata": {
        "id": "PQ8vd4QA6ndE",
        "colab_type": "text"
      },
      "source": [
        "**Get basic statistics of each feature.**"
      ]
    },
    {
      "cell_type": "code",
      "metadata": {
        "ExecuteTime": {
          "end_time": "2020-04-05T11:11:39.251844Z",
          "start_time": "2020-04-05T11:11:33.134695Z"
        },
        "id": "TDWLpM0y6ndF",
        "colab_type": "code",
        "outputId": "04920002-65fb-4103-e144-a8b8c1952963",
        "colab": {
          "base_uri": "https://localhost:8080/",
          "height": 509
        }
      },
      "source": [
        "flights_df.describe().T"
      ],
      "execution_count": 0,
      "outputs": [
        {
          "output_type": "execute_result",
          "data": {
            "text/html": [
              "<div>\n",
              "<style scoped>\n",
              "    .dataframe tbody tr th:only-of-type {\n",
              "        vertical-align: middle;\n",
              "    }\n",
              "\n",
              "    .dataframe tbody tr th {\n",
              "        vertical-align: top;\n",
              "    }\n",
              "\n",
              "    .dataframe thead th {\n",
              "        text-align: right;\n",
              "    }\n",
              "</style>\n",
              "<table border=\"1\" class=\"dataframe\">\n",
              "  <thead>\n",
              "    <tr style=\"text-align: right;\">\n",
              "      <th></th>\n",
              "      <th>count</th>\n",
              "      <th>mean</th>\n",
              "      <th>std</th>\n",
              "      <th>min</th>\n",
              "      <th>25%</th>\n",
              "      <th>50%</th>\n",
              "      <th>75%</th>\n",
              "      <th>max</th>\n",
              "    </tr>\n",
              "  </thead>\n",
              "  <tbody>\n",
              "    <tr>\n",
              "      <th>Year</th>\n",
              "      <td>7009728.0</td>\n",
              "      <td>2008.000000</td>\n",
              "      <td>0.000000</td>\n",
              "      <td>2008.0</td>\n",
              "      <td>2008.0</td>\n",
              "      <td>2008.0</td>\n",
              "      <td>2008.0</td>\n",
              "      <td>2008.0</td>\n",
              "    </tr>\n",
              "    <tr>\n",
              "      <th>Month</th>\n",
              "      <td>7009728.0</td>\n",
              "      <td>6.375130</td>\n",
              "      <td>3.406737</td>\n",
              "      <td>1.0</td>\n",
              "      <td>3.0</td>\n",
              "      <td>6.0</td>\n",
              "      <td>9.0</td>\n",
              "      <td>12.0</td>\n",
              "    </tr>\n",
              "    <tr>\n",
              "      <th>DayofMonth</th>\n",
              "      <td>7009728.0</td>\n",
              "      <td>15.728015</td>\n",
              "      <td>8.797068</td>\n",
              "      <td>1.0</td>\n",
              "      <td>8.0</td>\n",
              "      <td>16.0</td>\n",
              "      <td>23.0</td>\n",
              "      <td>31.0</td>\n",
              "    </tr>\n",
              "    <tr>\n",
              "      <th>DayOfWeek</th>\n",
              "      <td>7009728.0</td>\n",
              "      <td>3.924182</td>\n",
              "      <td>1.988259</td>\n",
              "      <td>1.0</td>\n",
              "      <td>2.0</td>\n",
              "      <td>4.0</td>\n",
              "      <td>6.0</td>\n",
              "      <td>7.0</td>\n",
              "    </tr>\n",
              "    <tr>\n",
              "      <th>DepTime</th>\n",
              "      <td>6873482.0</td>\n",
              "      <td>NaN</td>\n",
              "      <td>NaN</td>\n",
              "      <td>1.0</td>\n",
              "      <td>928.0</td>\n",
              "      <td>1325.0</td>\n",
              "      <td>1728.0</td>\n",
              "      <td>2400.0</td>\n",
              "    </tr>\n",
              "    <tr>\n",
              "      <th>FlightNum</th>\n",
              "      <td>7009728.0</td>\n",
              "      <td>2224.200105</td>\n",
              "      <td>1961.715999</td>\n",
              "      <td>1.0</td>\n",
              "      <td>622.0</td>\n",
              "      <td>1571.0</td>\n",
              "      <td>3518.0</td>\n",
              "      <td>9743.0</td>\n",
              "    </tr>\n",
              "    <tr>\n",
              "      <th>ArrDelay</th>\n",
              "      <td>6855029.0</td>\n",
              "      <td>NaN</td>\n",
              "      <td>NaN</td>\n",
              "      <td>-519.0</td>\n",
              "      <td>-10.0</td>\n",
              "      <td>-2.0</td>\n",
              "      <td>12.0</td>\n",
              "      <td>2460.0</td>\n",
              "    </tr>\n",
              "    <tr>\n",
              "      <th>DepDelay</th>\n",
              "      <td>6873482.0</td>\n",
              "      <td>NaN</td>\n",
              "      <td>NaN</td>\n",
              "      <td>-534.0</td>\n",
              "      <td>-4.0</td>\n",
              "      <td>-1.0</td>\n",
              "      <td>8.0</td>\n",
              "      <td>2468.0</td>\n",
              "    </tr>\n",
              "    <tr>\n",
              "      <th>Distance</th>\n",
              "      <td>7009728.0</td>\n",
              "      <td>726.387029</td>\n",
              "      <td>562.101803</td>\n",
              "      <td>11.0</td>\n",
              "      <td>325.0</td>\n",
              "      <td>581.0</td>\n",
              "      <td>954.0</td>\n",
              "      <td>4962.0</td>\n",
              "    </tr>\n",
              "    <tr>\n",
              "      <th>Cancelled</th>\n",
              "      <td>7009728.0</td>\n",
              "      <td>0.019606</td>\n",
              "      <td>0.138643</td>\n",
              "      <td>0.0</td>\n",
              "      <td>0.0</td>\n",
              "      <td>0.0</td>\n",
              "      <td>0.0</td>\n",
              "      <td>1.0</td>\n",
              "    </tr>\n",
              "    <tr>\n",
              "      <th>CarrierDelay</th>\n",
              "      <td>1524735.0</td>\n",
              "      <td>NaN</td>\n",
              "      <td>NaN</td>\n",
              "      <td>0.0</td>\n",
              "      <td>0.0</td>\n",
              "      <td>0.0</td>\n",
              "      <td>16.0</td>\n",
              "      <td>2436.0</td>\n",
              "    </tr>\n",
              "    <tr>\n",
              "      <th>WeatherDelay</th>\n",
              "      <td>1524735.0</td>\n",
              "      <td>NaN</td>\n",
              "      <td>NaN</td>\n",
              "      <td>0.0</td>\n",
              "      <td>0.0</td>\n",
              "      <td>0.0</td>\n",
              "      <td>0.0</td>\n",
              "      <td>1352.0</td>\n",
              "    </tr>\n",
              "    <tr>\n",
              "      <th>NASDelay</th>\n",
              "      <td>1524735.0</td>\n",
              "      <td>NaN</td>\n",
              "      <td>NaN</td>\n",
              "      <td>0.0</td>\n",
              "      <td>0.0</td>\n",
              "      <td>6.0</td>\n",
              "      <td>21.0</td>\n",
              "      <td>1357.0</td>\n",
              "    </tr>\n",
              "    <tr>\n",
              "      <th>SecurityDelay</th>\n",
              "      <td>1524735.0</td>\n",
              "      <td>NaN</td>\n",
              "      <td>NaN</td>\n",
              "      <td>0.0</td>\n",
              "      <td>0.0</td>\n",
              "      <td>0.0</td>\n",
              "      <td>0.0</td>\n",
              "      <td>392.0</td>\n",
              "    </tr>\n",
              "    <tr>\n",
              "      <th>LateAircraftDelay</th>\n",
              "      <td>1524735.0</td>\n",
              "      <td>NaN</td>\n",
              "      <td>NaN</td>\n",
              "      <td>0.0</td>\n",
              "      <td>0.0</td>\n",
              "      <td>0.0</td>\n",
              "      <td>26.0</td>\n",
              "      <td>1316.0</td>\n",
              "    </tr>\n",
              "  </tbody>\n",
              "</table>\n",
              "</div>"
            ],
            "text/plain": [
              "                       count         mean          std  ...     50%     75%     max\n",
              "Year               7009728.0  2008.000000     0.000000  ...  2008.0  2008.0  2008.0\n",
              "Month              7009728.0     6.375130     3.406737  ...     6.0     9.0    12.0\n",
              "DayofMonth         7009728.0    15.728015     8.797068  ...    16.0    23.0    31.0\n",
              "DayOfWeek          7009728.0     3.924182     1.988259  ...     4.0     6.0     7.0\n",
              "DepTime            6873482.0          NaN          NaN  ...  1325.0  1728.0  2400.0\n",
              "FlightNum          7009728.0  2224.200105  1961.715999  ...  1571.0  3518.0  9743.0\n",
              "ArrDelay           6855029.0          NaN          NaN  ...    -2.0    12.0  2460.0\n",
              "DepDelay           6873482.0          NaN          NaN  ...    -1.0     8.0  2468.0\n",
              "Distance           7009728.0   726.387029   562.101803  ...   581.0   954.0  4962.0\n",
              "Cancelled          7009728.0     0.019606     0.138643  ...     0.0     0.0     1.0\n",
              "CarrierDelay       1524735.0          NaN          NaN  ...     0.0    16.0  2436.0\n",
              "WeatherDelay       1524735.0          NaN          NaN  ...     0.0     0.0  1352.0\n",
              "NASDelay           1524735.0          NaN          NaN  ...     6.0    21.0  1357.0\n",
              "SecurityDelay      1524735.0          NaN          NaN  ...     0.0     0.0   392.0\n",
              "LateAircraftDelay  1524735.0          NaN          NaN  ...     0.0    26.0  1316.0\n",
              "\n",
              "[15 rows x 8 columns]"
            ]
          },
          "metadata": {
            "tags": []
          },
          "execution_count": 13
        }
      ]
    },
    {
      "cell_type": "markdown",
      "metadata": {
        "id": "njidIVzV6ndK",
        "colab_type": "text"
      },
      "source": [
        "**Count unique Carriers and plot their relative share of flights:**"
      ]
    },
    {
      "cell_type": "code",
      "metadata": {
        "ExecuteTime": {
          "end_time": "2020-04-05T11:11:39.429976Z",
          "start_time": "2020-04-05T11:11:39.253136Z"
        },
        "id": "vfUBk3O06ndL",
        "colab_type": "code",
        "outputId": "f42e8df2-a89c-471a-a306-02b0d8d74fcb",
        "colab": {
          "base_uri": "https://localhost:8080/",
          "height": 35
        }
      },
      "source": [
        "flights_df['UniqueCarrier'].nunique()"
      ],
      "execution_count": 0,
      "outputs": [
        {
          "output_type": "execute_result",
          "data": {
            "text/plain": [
              "20"
            ]
          },
          "metadata": {
            "tags": []
          },
          "execution_count": 14
        }
      ]
    },
    {
      "cell_type": "code",
      "metadata": {
        "ExecuteTime": {
          "end_time": "2020-04-05T11:11:39.814144Z",
          "start_time": "2020-04-05T11:11:39.430922Z"
        },
        "id": "2OEvEpI86ndU",
        "colab_type": "code",
        "outputId": "bcc2f7c4-8da0-40f5-c9d3-1067834b11e6",
        "colab": {
          "base_uri": "https://localhost:8080/",
          "height": 298
        }
      },
      "source": [
        "flights_df.groupby('UniqueCarrier').size().plot(kind='bar');"
      ],
      "execution_count": 0,
      "outputs": [
        {
          "output_type": "display_data",
          "data": {
            "image/png": "[encoded data removed]",
            "text/plain": [
              "<Figure size 432x288 with 1 Axes>"
            ]
          },
          "metadata": {
            "tags": []
          }
        }
      ]
    },
    {
      "cell_type": "markdown",
      "metadata": {
        "id": "UELK_Dup6ndY",
        "colab_type": "text"
      },
      "source": [
        "**We can also _group by_ category/categories in order to calculate different aggregated statistics.**\n",
        "\n",
        "**For example, finding top-3 flight codes, that have the largest total distance travelled in year 2008.**"
      ]
    },
    {
      "cell_type": "code",
      "metadata": {
        "ExecuteTime": {
          "end_time": "2020-04-05T11:11:40.261979Z",
          "start_time": "2020-04-05T11:11:39.815255Z"
        },
        "id": "rWjSellE6ndZ",
        "colab_type": "code",
        "outputId": "33f7815b-911f-4046-cd17-cc31c069056e",
        "colab": {
          "base_uri": "https://localhost:8080/",
          "height": 104
        }
      },
      "source": [
        "flights_df.groupby(['UniqueCarrier','FlightNum'])['Distance'].sum().sort_values(ascending=False).iloc[:3]"
      ],
      "execution_count": 0,
      "outputs": [
        {
          "output_type": "execute_result",
          "data": {
            "text/plain": [
              "UniqueCarrier  FlightNum\n",
              "CO             15           1796244.0\n",
              "               14           1796244.0\n",
              "UA             52           1789722.0\n",
              "Name: Distance, dtype: float64"
            ]
          },
          "metadata": {
            "tags": []
          },
          "execution_count": 17
        }
      ]
    },
    {
      "cell_type": "markdown",
      "metadata": {
        "id": "N6mO7Rsr6nde",
        "colab_type": "text"
      },
      "source": [
        "**Another way:**"
      ]
    },
    {
      "cell_type": "code",
      "metadata": {
        "ExecuteTime": {
          "end_time": "2020-04-05T11:11:40.835300Z",
          "start_time": "2020-04-05T11:11:40.263231Z"
        },
        "id": "GeaSu8Da6ndf",
        "colab_type": "code",
        "outputId": "52871f8a-3031-49e5-af8c-959f0f7ec9f2",
        "colab": {
          "base_uri": "https://localhost:8080/",
          "height": 202
        }
      },
      "source": [
        "flights_df.groupby(['UniqueCarrier','FlightNum'])\\\n",
        "  .agg({'Distance': [np.mean, np.sum, 'count'],\n",
        "        'Cancelled': np.sum})\\\n",
        "  .sort_values(('Distance', 'sum'), ascending=False)\\\n",
        "  .iloc[0:3]"
      ],
      "execution_count": 0,
      "outputs": [
        {
          "output_type": "execute_result",
          "data": {
            "text/html": [
              "<div>\n",
              "<style scoped>\n",
              "    .dataframe tbody tr th:only-of-type {\n",
              "        vertical-align: middle;\n",
              "    }\n",
              "\n",
              "    .dataframe tbody tr th {\n",
              "        vertical-align: top;\n",
              "    }\n",
              "\n",
              "    .dataframe thead tr th {\n",
              "        text-align: left;\n",
              "    }\n",
              "\n",
              "    .dataframe thead tr:last-of-type th {\n",
              "        text-align: right;\n",
              "    }\n",
              "</style>\n",
              "<table border=\"1\" class=\"dataframe\">\n",
              "  <thead>\n",
              "    <tr>\n",
              "      <th></th>\n",
              "      <th></th>\n",
              "      <th colspan=\"3\" halign=\"left\">Distance</th>\n",
              "      <th>Cancelled</th>\n",
              "    </tr>\n",
              "    <tr>\n",
              "      <th></th>\n",
              "      <th></th>\n",
              "      <th>mean</th>\n",
              "      <th>sum</th>\n",
              "      <th>count</th>\n",
              "      <th>sum</th>\n",
              "    </tr>\n",
              "    <tr>\n",
              "      <th>UniqueCarrier</th>\n",
              "      <th>FlightNum</th>\n",
              "      <th></th>\n",
              "      <th></th>\n",
              "      <th></th>\n",
              "      <th></th>\n",
              "    </tr>\n",
              "  </thead>\n",
              "  <tbody>\n",
              "    <tr>\n",
              "      <th rowspan=\"2\" valign=\"top\">CO</th>\n",
              "      <th>15</th>\n",
              "      <td>4962.000000</td>\n",
              "      <td>1796244.0</td>\n",
              "      <td>362</td>\n",
              "      <td>0</td>\n",
              "    </tr>\n",
              "    <tr>\n",
              "      <th>14</th>\n",
              "      <td>4962.000000</td>\n",
              "      <td>1796244.0</td>\n",
              "      <td>362</td>\n",
              "      <td>0</td>\n",
              "    </tr>\n",
              "    <tr>\n",
              "      <th>UA</th>\n",
              "      <th>52</th>\n",
              "      <td>2465.181818</td>\n",
              "      <td>1789722.0</td>\n",
              "      <td>726</td>\n",
              "      <td>8</td>\n",
              "    </tr>\n",
              "  </tbody>\n",
              "</table>\n",
              "</div>"
            ],
            "text/plain": [
              "                            Distance                  Cancelled\n",
              "                                mean        sum count       sum\n",
              "UniqueCarrier FlightNum                                        \n",
              "CO            15         4962.000000  1796244.0   362         0\n",
              "              14         4962.000000  1796244.0   362         0\n",
              "UA            52         2465.181818  1789722.0   726         8"
            ]
          },
          "metadata": {
            "tags": []
          },
          "execution_count": 18
        }
      ]
    },
    {
      "cell_type": "markdown",
      "metadata": {
        "id": "X2qy-erW6ndl",
        "colab_type": "text"
      },
      "source": [
        "**Number of flights by days of week and months:**"
      ]
    },
    {
      "cell_type": "code",
      "metadata": {
        "ExecuteTime": {
          "end_time": "2020-04-05T11:11:41.170085Z",
          "start_time": "2020-04-05T11:11:40.836692Z"
        },
        "id": "BWmceLKh6ndm",
        "colab_type": "code",
        "outputId": "6d603ae1-932e-45e0-8786-891fb1373d3b",
        "colab": {
          "base_uri": "https://localhost:8080/",
          "height": 447
        }
      },
      "source": [
        "pd.crosstab(flights_df.Month, flights_df.DayOfWeek)"
      ],
      "execution_count": 0,
      "outputs": [
        {
          "output_type": "execute_result",
          "data": {
            "text/html": [
              "<div>\n",
              "<style scoped>\n",
              "    .dataframe tbody tr th:only-of-type {\n",
              "        vertical-align: middle;\n",
              "    }\n",
              "\n",
              "    .dataframe tbody tr th {\n",
              "        vertical-align: top;\n",
              "    }\n",
              "\n",
              "    .dataframe thead th {\n",
              "        text-align: right;\n",
              "    }\n",
              "</style>\n",
              "<table border=\"1\" class=\"dataframe\">\n",
              "  <thead>\n",
              "    <tr style=\"text-align: right;\">\n",
              "      <th>DayOfWeek</th>\n",
              "      <th>1</th>\n",
              "      <th>2</th>\n",
              "      <th>3</th>\n",
              "      <th>4</th>\n",
              "      <th>5</th>\n",
              "      <th>6</th>\n",
              "      <th>7</th>\n",
              "    </tr>\n",
              "    <tr>\n",
              "      <th>Month</th>\n",
              "      <th></th>\n",
              "      <th></th>\n",
              "      <th></th>\n",
              "      <th></th>\n",
              "      <th></th>\n",
              "      <th></th>\n",
              "      <th></th>\n",
              "    </tr>\n",
              "  </thead>\n",
              "  <tbody>\n",
              "    <tr>\n",
              "      <th>1</th>\n",
              "      <td>80807</td>\n",
              "      <td>97298</td>\n",
              "      <td>100080</td>\n",
              "      <td>102043</td>\n",
              "      <td>81940</td>\n",
              "      <td>67178</td>\n",
              "      <td>76419</td>\n",
              "    </tr>\n",
              "    <tr>\n",
              "      <th>2</th>\n",
              "      <td>81504</td>\n",
              "      <td>79700</td>\n",
              "      <td>80587</td>\n",
              "      <td>82158</td>\n",
              "      <td>102726</td>\n",
              "      <td>66462</td>\n",
              "      <td>76099</td>\n",
              "    </tr>\n",
              "    <tr>\n",
              "      <th>3</th>\n",
              "      <td>103210</td>\n",
              "      <td>81159</td>\n",
              "      <td>82307</td>\n",
              "      <td>82831</td>\n",
              "      <td>82936</td>\n",
              "      <td>86153</td>\n",
              "      <td>97494</td>\n",
              "    </tr>\n",
              "    <tr>\n",
              "      <th>4</th>\n",
              "      <td>82463</td>\n",
              "      <td>100785</td>\n",
              "      <td>102586</td>\n",
              "      <td>82799</td>\n",
              "      <td>82964</td>\n",
              "      <td>68304</td>\n",
              "      <td>78225</td>\n",
              "    </tr>\n",
              "    <tr>\n",
              "      <th>5</th>\n",
              "      <td>80626</td>\n",
              "      <td>79884</td>\n",
              "      <td>81264</td>\n",
              "      <td>102572</td>\n",
              "      <td>102878</td>\n",
              "      <td>84493</td>\n",
              "      <td>74576</td>\n",
              "    </tr>\n",
              "    <tr>\n",
              "      <th>6</th>\n",
              "      <td>104168</td>\n",
              "      <td>82160</td>\n",
              "      <td>82902</td>\n",
              "      <td>83617</td>\n",
              "      <td>83930</td>\n",
              "      <td>72322</td>\n",
              "      <td>99566</td>\n",
              "    </tr>\n",
              "    <tr>\n",
              "      <th>7</th>\n",
              "      <td>84095</td>\n",
              "      <td>103429</td>\n",
              "      <td>103315</td>\n",
              "      <td>105035</td>\n",
              "      <td>79349</td>\n",
              "      <td>72219</td>\n",
              "      <td>80489</td>\n",
              "    </tr>\n",
              "    <tr>\n",
              "      <th>8</th>\n",
              "      <td>82983</td>\n",
              "      <td>80895</td>\n",
              "      <td>81773</td>\n",
              "      <td>82625</td>\n",
              "      <td>103878</td>\n",
              "      <td>86155</td>\n",
              "      <td>93970</td>\n",
              "    </tr>\n",
              "    <tr>\n",
              "      <th>9</th>\n",
              "      <td>94300</td>\n",
              "      <td>91533</td>\n",
              "      <td>74057</td>\n",
              "      <td>75589</td>\n",
              "      <td>75881</td>\n",
              "      <td>58343</td>\n",
              "      <td>71205</td>\n",
              "    </tr>\n",
              "    <tr>\n",
              "      <th>10</th>\n",
              "      <td>75131</td>\n",
              "      <td>72195</td>\n",
              "      <td>91900</td>\n",
              "      <td>94123</td>\n",
              "      <td>93894</td>\n",
              "      <td>58168</td>\n",
              "      <td>70794</td>\n",
              "    </tr>\n",
              "    <tr>\n",
              "      <th>11</th>\n",
              "      <td>74214</td>\n",
              "      <td>72443</td>\n",
              "      <td>73653</td>\n",
              "      <td>68071</td>\n",
              "      <td>70484</td>\n",
              "      <td>76031</td>\n",
              "      <td>88376</td>\n",
              "    </tr>\n",
              "    <tr>\n",
              "      <th>12</th>\n",
              "      <td>92700</td>\n",
              "      <td>90568</td>\n",
              "      <td>85241</td>\n",
              "      <td>70761</td>\n",
              "      <td>74306</td>\n",
              "      <td>61708</td>\n",
              "      <td>69674</td>\n",
              "    </tr>\n",
              "  </tbody>\n",
              "</table>\n",
              "</div>"
            ],
            "text/plain": [
              "DayOfWeek       1       2       3       4       5      6      7\n",
              "Month                                                          \n",
              "1           80807   97298  100080  102043   81940  67178  76419\n",
              "2           81504   79700   80587   82158  102726  66462  76099\n",
              "3          103210   81159   82307   82831   82936  86153  97494\n",
              "4           82463  100785  102586   82799   82964  68304  78225\n",
              "5           80626   79884   81264  102572  102878  84493  74576\n",
              "6          104168   82160   82902   83617   83930  72322  99566\n",
              "7           84095  103429  103315  105035   79349  72219  80489\n",
              "8           82983   80895   81773   82625  103878  86155  93970\n",
              "9           94300   91533   74057   75589   75881  58343  71205\n",
              "10          75131   72195   91900   94123   93894  58168  70794\n",
              "11          74214   72443   73653   68071   70484  76031  88376\n",
              "12          92700   90568   85241   70761   74306  61708  69674"
            ]
          },
          "metadata": {
            "tags": []
          },
          "execution_count": 19
        }
      ]
    },
    {
      "cell_type": "markdown",
      "metadata": {
        "id": "ltSwdkmY6nds",
        "colab_type": "text"
      },
      "source": [
        "**It can also be handy to color such tables in order to easily notice outliers:**"
      ]
    },
    {
      "cell_type": "code",
      "metadata": {
        "ExecuteTime": {
          "end_time": "2020-04-05T11:11:41.574229Z",
          "start_time": "2020-04-05T11:11:41.171032Z"
        },
        "id": "PtJmPyeL6ndt",
        "colab_type": "code",
        "outputId": "42779c66-c479-46f9-e540-acddb93dfc73",
        "colab": {
          "base_uri": "https://localhost:8080/",
          "height": 265
        }
      },
      "source": [
        "plt.imshow(pd.crosstab(flights_df.Month, flights_df.DayOfWeek),\n",
        "           cmap='seismic', interpolation='none');"
      ],
      "execution_count": 0,
      "outputs": [
        {
          "output_type": "display_data",
          "data": {
            "image/png": "[encoded data removed]",
            "text/plain": [
              "<Figure size 432x288 with 1 Axes>"
            ]
          },
          "metadata": {
            "tags": []
          }
        }
      ]
    },
    {
      "cell_type": "markdown",
      "metadata": {
        "id": "0mhZfJb46ndz",
        "colab_type": "text"
      },
      "source": [
        "**Flight distance histogram:**"
      ]
    },
    {
      "cell_type": "code",
      "metadata": {
        "ExecuteTime": {
          "end_time": "2020-04-05T11:11:41.791384Z",
          "start_time": "2020-04-05T11:11:41.575776Z"
        },
        "scrolled": true,
        "id": "tZU0Guwf6nd0",
        "colab_type": "code",
        "outputId": "5a21b6e0-7e9b-46d3-b29d-2dcb46de16c8",
        "colab": {
          "base_uri": "https://localhost:8080/",
          "height": 281
        }
      },
      "source": [
        "flights_df.hist('Distance', bins=20);"
      ],
      "execution_count": 0,
      "outputs": [
        {
          "output_type": "display_data",
          "data": {
            "image/png": "[encoded data removed]",
            "text/plain": [
              "<Figure size 432x288 with 1 Axes>"
            ]
          },
          "metadata": {
            "tags": []
          }
        }
      ]
    },
    {
      "cell_type": "markdown",
      "metadata": {
        "id": "VZAn6b0c6nd5",
        "colab_type": "text"
      },
      "source": [
        "**Making a histogram of flight frequency by date.**"
      ]
    },
    {
      "cell_type": "code",
      "metadata": {
        "ExecuteTime": {
          "end_time": "2020-04-05T11:11:42.376774Z",
          "start_time": "2020-04-05T11:11:41.792542Z"
        },
        "id": "KnBHnoxC6nd6",
        "colab_type": "code",
        "colab": {}
      },
      "source": [
        "flights_df['Date'] = pd.to_datetime(flights_df.rename(columns={'DayofMonth': 'Day'})[['Year', 'Month', 'Day']])"
      ],
      "execution_count": 0,
      "outputs": []
    },
    {
      "cell_type": "code",
      "metadata": {
        "ExecuteTime": {
          "end_time": "2020-04-05T11:11:42.468892Z",
          "start_time": "2020-04-05T11:11:42.377869Z"
        },
        "id": "PnnVplEA6neA",
        "colab_type": "code",
        "colab": {}
      },
      "source": [
        "num_flights_by_date = flights_df.groupby('Date').size()"
      ],
      "execution_count": 0,
      "outputs": []
    },
    {
      "cell_type": "code",
      "metadata": {
        "ExecuteTime": {
          "end_time": "2020-04-05T11:11:42.702408Z",
          "start_time": "2020-04-05T11:11:42.469832Z"
        },
        "scrolled": true,
        "id": "_xsXJuqv6neG",
        "colab_type": "code",
        "outputId": "70712451-ffcf-4ab7-9fb2-ce9240c8233e",
        "colab": {
          "base_uri": "https://localhost:8080/",
          "height": 291
        }
      },
      "source": [
        "num_flights_by_date.plot();"
      ],
      "execution_count": 0,
      "outputs": [
        {
          "output_type": "display_data",
          "data": {
            "image/png": "[encoded data removed]",
            "text/plain": [
              "<Figure size 432x288 with 1 Axes>"
            ]
          },
          "metadata": {
            "tags": []
          }
        }
      ]
    },
    {
      "cell_type": "markdown",
      "metadata": {
        "id": "2QQvxFiC6neK",
        "colab_type": "text"
      },
      "source": [
        "**Do you see a weekly pattern above? And below?**"
      ]
    },
    {
      "cell_type": "code",
      "metadata": {
        "ExecuteTime": {
          "end_time": "2020-04-05T11:11:42.950805Z",
          "start_time": "2020-04-05T11:11:42.703422Z"
        },
        "id": "nc88L83g6neL",
        "colab_type": "code",
        "outputId": "7d2b649d-b825-4b8a-fefe-6047527ca82a",
        "colab": {
          "base_uri": "https://localhost:8080/",
          "height": 291
        }
      },
      "source": [
        "num_flights_by_date.rolling(window=7).mean().plot();"
      ],
      "execution_count": 0,
      "outputs": [
        {
          "output_type": "display_data",
          "data": {
            "image/png": "[encoded data removed]",
            "text/plain": [
              "<Figure size 432x288 with 1 Axes>"
            ]
          },
          "metadata": {
            "tags": []
          }
        }
      ]
    },
    {
      "cell_type": "markdown",
      "metadata": {
        "id": "JGVBSz8z6neQ",
        "colab_type": "text"
      },
      "source": [
        "**1. Find top-10 carriers in terms of the number of completed flights (_UniqueCarrier_ column)?**\n",
        "\n",
        "**Which of the listed below is _not_ in your top-10 list?**\n",
        "- DL\n",
        "- AA\n",
        "- OO\n",
        "- EV "
      ]
    },
    {
      "cell_type": "code",
      "metadata": {
        "ExecuteTime": {
          "end_time": "2020-04-05T11:11:42.953485Z",
          "start_time": "2020-04-05T11:11:42.951823Z"
        },
        "id": "nqm1CSGg6neQ",
        "colab_type": "code",
        "outputId": "e351c20a-d474-4c6f-90ce-54fb5845d7e3",
        "colab": {
          "base_uri": "https://localhost:8080/",
          "height": 225
        }
      },
      "source": [
        "# You code here\n",
        "'''\n",
        "ANSWER: EV is not in the list\n",
        "'''\n",
        "flights_df[flights_df[\"Cancelled\"]==0].groupby([\"UniqueCarrier\"]).size().sort_values(ascending=False).head(10)"
      ],
      "execution_count": 0,
      "outputs": [
        {
          "output_type": "execute_result",
          "data": {
            "text/plain": [
              "UniqueCarrier\n",
              "WN    1189365\n",
              "AA     587445\n",
              "OO     554723\n",
              "MQ     472362\n",
              "US     447007\n",
              "DL     445118\n",
              "UA     438974\n",
              "XE     364518\n",
              "NW     344746\n",
              "CO     294753\n",
              "dtype: int64"
            ]
          },
          "metadata": {
            "tags": []
          },
          "execution_count": 37
        }
      ]
    },
    {
      "cell_type": "markdown",
      "metadata": {
        "id": "l9I6GgzU6neW",
        "colab_type": "text"
      },
      "source": [
        "**2. Plot distributions of flight cancellation reasons (_CancellationCode_).**\n",
        "\n",
        "**What is the most frequent reason for flight cancellation? (Use this [link](https://www.transtats.bts.gov/Fields.asp?Table_ID=236) to translate codes into reasons)**\n",
        "- carrier\n",
        "- weather conditions \n",
        "- National Air System\n",
        "- security reasons"
      ]
    },
    {
      "cell_type": "code",
      "metadata": {
        "ExecuteTime": {
          "end_time": "2020-04-05T11:11:42.961412Z",
          "start_time": "2020-04-05T11:11:42.954605Z"
        },
        "id": "qsB_6zUe6neY",
        "colab_type": "code",
        "outputId": "d961fcd0-95e6-42c3-e86b-49a1cb4f17d7",
        "colab": {
          "base_uri": "https://localhost:8080/",
          "height": 371
        }
      },
      "source": [
        "# You code here\n",
        "codes={\"A\":\"Carrier\",\"B\":\"Weather\",\"C\":\"National Air System\",\"D\":\"Security\"}\n",
        "\n",
        "flights_df[\"CancellationCode\"].map(codes).value_counts(normalize=True).plot(kind='bar')"
      ],
      "execution_count": 0,
      "outputs": [
        {
          "output_type": "execute_result",
          "data": {
            "text/plain": [
              "<matplotlib.axes._subplots.AxesSubplot at 0x7fa018b25390>"
            ]
          },
          "metadata": {
            "tags": []
          },
          "execution_count": 43
        },
        {
          "output_type": "display_data",
          "data": {
            "image/png": "[encoded data removed]",
            "text/plain": [
              "<Figure size 432x288 with 1 Axes>"
            ]
          },
          "metadata": {
            "tags": []
          }
        }
      ]
    },
    {
      "cell_type": "markdown",
      "metadata": {
        "id": "ANHtLbyW6nec",
        "colab_type": "text"
      },
      "source": [
        "**3. Which route is the most frequent, in terms of the number of flights?**\n",
        "\n",
        "(Take a look at _'Origin'_ and _'Dest'_ features. Consider _A->B_ and _B->A_ directions as _different_ routes) \n",
        "\n",
        " - New-York – Washington\n",
        " - San-Francisco – Los-Angeles \n",
        " - San-Jose – Dallas\n",
        " - New-York – San-Francisco"
      ]
    },
    {
      "cell_type": "code",
      "metadata": {
        "ExecuteTime": {
          "end_time": "2020-04-05T11:11:42.966663Z",
          "start_time": "2020-04-05T11:11:42.962421Z"
        },
        "id": "uo5g_jls6ned",
        "colab_type": "code",
        "outputId": "02e0a6fa-2f9c-40ce-9e82-b0566b866ab8",
        "colab": {
          "base_uri": "https://localhost:8080/",
          "height": 121
        }
      },
      "source": [
        "# You code here\n",
        "'''\n",
        "ANSWER: most frequent route is San Francisco to Los Angeles\n",
        "'''\n",
        "flights_df.head()\n",
        "# flights_df[[\"Origin\",\"Dest\"]].isnull().sum()\n",
        "flights_df[\"Routes\"]=flights_df[\"Origin\"] + \" -> \" +flights_df[\"Dest\"]\n",
        "flights_df[\"Routes\"].value_counts().head() "
      ],
      "execution_count": 0,
      "outputs": [
        {
          "output_type": "execute_result",
          "data": {
            "text/plain": [
              "SFO -> LAX    13788\n",
              "LAX -> SFO    13390\n",
              "OGG -> HNL    12383\n",
              "LGA -> BOS    12035\n",
              "BOS -> LGA    12029\n",
              "Name: Routes, dtype: int64"
            ]
          },
          "metadata": {
            "tags": []
          },
          "execution_count": 48
        }
      ]
    },
    {
      "cell_type": "markdown",
      "metadata": {
        "id": "rh7BEsrB6neg",
        "colab_type": "text"
      },
      "source": [
        "**4. Find top-5 delayed routes (count how many times they were delayed on departure). From all flights on these 5 routes, count all flights with weather conditions contributing to a delay.**\n",
        "\n",
        "**Hint:** consider only positive delays\n",
        "\n",
        "\n",
        "- 449 \n",
        "- 539 \n",
        "- 549 \n",
        "- 668+"
      ]
    },
    {
      "cell_type": "code",
      "metadata": {
        "ExecuteTime": {
          "end_time": "2020-04-05T11:11:42.972174Z",
          "start_time": "2020-04-05T11:11:42.969380Z"
        },
        "id": "TBW6hI4E6neh",
        "colab_type": "code",
        "outputId": "5fe23d3e-c38c-4d25-b4b5-ef81c427758e",
        "colab": {
          "base_uri": "https://localhost:8080/",
          "height": 233
        }
      },
      "source": [
        "# You code here\n",
        "'''\n",
        "ANSWER: 'LAX -> SFO', 'DAL -> HOU', 'SFO -> LAX', 'ORD -> LGA', 'HOU -> DAL'\n",
        "'''\n",
        "# flights_df[flights_df[\"DepDelay\"]>0][\"Routes\"].value_counts().head(5)#.index\n",
        "def wdelay(series):\n",
        "  return len(series[series>0])\n",
        "\n",
        "flights_df[flights_df[\"DepDelay\"]>0].fillna(0).groupby(\"Routes\")\\\n",
        "                                                .agg({\"FlightNum\":\"count\",\"WeatherDelay\":wdelay})\\\n",
        "                                                .sort_values([\"FlightNum\"],ascending=False).head(5)\\\n",
        "                                                .rename(columns={\"FlightNum\":\"TotalDelays\"})"
      ],
      "execution_count": 0,
      "outputs": [
        {
          "output_type": "execute_result",
          "data": {
            "text/html": [
              "<div>\n",
              "<style scoped>\n",
              "    .dataframe tbody tr th:only-of-type {\n",
              "        vertical-align: middle;\n",
              "    }\n",
              "\n",
              "    .dataframe tbody tr th {\n",
              "        vertical-align: top;\n",
              "    }\n",
              "\n",
              "    .dataframe thead th {\n",
              "        text-align: right;\n",
              "    }\n",
              "</style>\n",
              "<table border=\"1\" class=\"dataframe\">\n",
              "  <thead>\n",
              "    <tr style=\"text-align: right;\">\n",
              "      <th></th>\n",
              "      <th>TotalDelays</th>\n",
              "      <th>WeatherDelay</th>\n",
              "    </tr>\n",
              "    <tr>\n",
              "      <th>Routes</th>\n",
              "      <th></th>\n",
              "      <th></th>\n",
              "    </tr>\n",
              "  </thead>\n",
              "  <tbody>\n",
              "    <tr>\n",
              "      <th>LAX -&gt; SFO</th>\n",
              "      <td>6253</td>\n",
              "      <td>109.0</td>\n",
              "    </tr>\n",
              "    <tr>\n",
              "      <th>DAL -&gt; HOU</th>\n",
              "      <td>5742</td>\n",
              "      <td>133.0</td>\n",
              "    </tr>\n",
              "    <tr>\n",
              "      <th>SFO -&gt; LAX</th>\n",
              "      <td>5322</td>\n",
              "      <td>31.0</td>\n",
              "    </tr>\n",
              "    <tr>\n",
              "      <th>ORD -&gt; LGA</th>\n",
              "      <td>5311</td>\n",
              "      <td>266.0</td>\n",
              "    </tr>\n",
              "    <tr>\n",
              "      <th>HOU -&gt; DAL</th>\n",
              "      <td>5288</td>\n",
              "      <td>129.0</td>\n",
              "    </tr>\n",
              "  </tbody>\n",
              "</table>\n",
              "</div>"
            ],
            "text/plain": [
              "            TotalDelays  WeatherDelay\n",
              "Routes                               \n",
              "LAX -> SFO         6253         109.0\n",
              "DAL -> HOU         5742         133.0\n",
              "SFO -> LAX         5322          31.0\n",
              "ORD -> LGA         5311         266.0\n",
              "HOU -> DAL         5288         129.0"
            ]
          },
          "metadata": {
            "tags": []
          },
          "execution_count": 77
        }
      ]
    },
    {
      "cell_type": "markdown",
      "metadata": {
        "id": "lOOS4QCl6nem",
        "colab_type": "text"
      },
      "source": [
        "**5. Examine the hourly distribution of departure times. For that, create a new series from DepTime, removing missing values.**\n",
        "\n",
        "**Choose all correct statements:**\n",
        " - Flights are normally distributed within time interval [0-23] (Search for: Normal distribution, bell curve).\n",
        " - Flights are uniformly distributed within time interval [0-23].\n",
        " - In the period from 0 am to 4 am there are considerably less flights than from 7 pm to 8 pm."
      ]
    },
    {
      "cell_type": "code",
      "metadata": {
        "ExecuteTime": {
          "end_time": "2020-04-05T11:11:42.978040Z",
          "start_time": "2020-04-05T11:11:42.973899Z"
        },
        "id": "VoQ_oGNH6nem",
        "colab_type": "code",
        "colab": {
          "base_uri": "https://localhost:8080/",
          "height": 265
        },
        "outputId": "31708a7e-6a31-46c1-cb8a-6fbd8cad1e15"
      },
      "source": [
        "# You code here\n",
        "'''\n",
        "ANSWER: \n",
        "1. NORMAL DISTRIBUTION: FALSE\n",
        "2. UNIFORM DISTRIBUTION: TRUE\n",
        "3. 0-4 AM FLIGHT COUNT < 7-8 PM : TRUE\n",
        "'''\n",
        "\n",
        "\n",
        "import seaborn as sns\n",
        "from scipy.stats import norm\n",
        "flights_df.DepTime.describe()\n",
        "deptimes=flights_df[flights_df[\"DepTime\"].notnull()][[\"DepTime\"]]\n",
        "deptimes[\"DepTime\"]=deptimes[\"DepTime\"].apply(lambda x: '{0:04d}'.format(int(x)))\n",
        "deptimes[\"hour\"]=deptimes[\"DepTime\"].apply(lambda x: int(x[:2]))\n",
        "deptimes[\"mins\"]=deptimes[\"DepTime\"].apply(lambda x:   int(x[2:])/60*100    )\n",
        "deptimes.loc[deptimes[\"hour\"]==24,\"hour\"]=23\n",
        "deptimes[\"TimeAdjusted\"]=deptimes[\"hour\"]*100 + deptimes[\"mins\"]\n",
        "deptimes.head()\n",
        "\n",
        "\n",
        "plt.figure()\n",
        "sns.distplot(deptimes[\"TimeAdjusted\"].values/100, kde=True, rug=True,fit=norm,bins=24)\n",
        "(mu, sigma) = norm.fit(deptimes[\"TimeAdjusted\"].values/100)\n",
        "plt.legend(['$\\mu=$ {:.2f} and $\\sigma=$ {:.2f}'.format(mu, sigma)],\n",
        "           loc='best')\n",
        "plt.show()"
      ],
      "execution_count": 121,
      "outputs": [
        {
          "output_type": "display_data",
          "data": {
            "image/png": "[encoded data removed]",
            "text/plain": [
              "<Figure size 432x288 with 1 Axes>"
            ]
          },
          "metadata": {
            "tags": []
          }
        }
      ]
    },
    {
      "cell_type": "code",
      "metadata": {
        "id": "ASnfDG6siYNa",
        "colab_type": "code",
        "colab": {
          "base_uri": "https://localhost:8080/",
          "height": 202
        },
        "outputId": "65473197-f785-40df-acd4-74baadcc99dc"
      },
      "source": [
        "deptimes.head()"
      ],
      "execution_count": 120,
      "outputs": [
        {
          "output_type": "execute_result",
          "data": {
            "text/html": [
              "<div>\n",
              "<style scoped>\n",
              "    .dataframe tbody tr th:only-of-type {\n",
              "        vertical-align: middle;\n",
              "    }\n",
              "\n",
              "    .dataframe tbody tr th {\n",
              "        vertical-align: top;\n",
              "    }\n",
              "\n",
              "    .dataframe thead th {\n",
              "        text-align: right;\n",
              "    }\n",
              "</style>\n",
              "<table border=\"1\" class=\"dataframe\">\n",
              "  <thead>\n",
              "    <tr style=\"text-align: right;\">\n",
              "      <th></th>\n",
              "      <th>DepTime</th>\n",
              "      <th>hour</th>\n",
              "      <th>mins</th>\n",
              "      <th>TimeAdjusted</th>\n",
              "    </tr>\n",
              "  </thead>\n",
              "  <tbody>\n",
              "    <tr>\n",
              "      <th>0</th>\n",
              "      <td>2003</td>\n",
              "      <td>20</td>\n",
              "      <td>5.000000</td>\n",
              "      <td>2005.000000</td>\n",
              "    </tr>\n",
              "    <tr>\n",
              "      <th>1</th>\n",
              "      <td>0754</td>\n",
              "      <td>7</td>\n",
              "      <td>90.000000</td>\n",
              "      <td>790.000000</td>\n",
              "    </tr>\n",
              "    <tr>\n",
              "      <th>2</th>\n",
              "      <td>0628</td>\n",
              "      <td>6</td>\n",
              "      <td>46.666667</td>\n",
              "      <td>646.666667</td>\n",
              "    </tr>\n",
              "    <tr>\n",
              "      <th>3</th>\n",
              "      <td>0926</td>\n",
              "      <td>9</td>\n",
              "      <td>43.333333</td>\n",
              "      <td>943.333333</td>\n",
              "    </tr>\n",
              "    <tr>\n",
              "      <th>4</th>\n",
              "      <td>1829</td>\n",
              "      <td>18</td>\n",
              "      <td>48.333333</td>\n",
              "      <td>1848.333333</td>\n",
              "    </tr>\n",
              "  </tbody>\n",
              "</table>\n",
              "</div>"
            ],
            "text/plain": [
              "  DepTime  hour       mins  TimeAdjusted\n",
              "0    2003    20   5.000000   2005.000000\n",
              "1    0754     7  90.000000    790.000000\n",
              "2    0628     6  46.666667    646.666667\n",
              "3    0926     9  43.333333    943.333333\n",
              "4    1829    18  48.333333   1848.333333"
            ]
          },
          "metadata": {
            "tags": []
          },
          "execution_count": 120
        }
      ]
    },
    {
      "cell_type": "markdown",
      "metadata": {
        "id": "3o14d-xc6neq",
        "colab_type": "text"
      },
      "source": [
        "**6. Show how the number of flights changes through time (on the daily/weekly/monthly basis) and interpret the findings.**\n",
        "\n",
        "**Choose all correct statements:**\n",
        "- The number of flights during weekends is less than during weekdays (working days).\n",
        "- The lowest number of flights is on Sunday.\n",
        "- There are less flights during winter than during summer.  "
      ]
    },
    {
      "cell_type": "code",
      "metadata": {
        "ExecuteTime": {
          "end_time": "2020-04-05T11:11:42.983553Z",
          "start_time": "2020-04-05T11:11:42.979364Z"
        },
        "id": "F_HSDpIi6ner",
        "colab_type": "code",
        "colab": {
          "base_uri": "https://localhost:8080/",
          "height": 1000
        },
        "outputId": "57f53b47-ed35-44ac-dfd4-b0812c96c064"
      },
      "source": [
        "# You code here\n",
        "# flights_df.head()\n",
        "\"\"\"\n",
        "INTERPRETATON: STRONG WEEKLY SEASONALITY : high on weekdays, lowest on Saturday\n",
        "Number of flights in weekends is less than weekdays: True\n",
        "Lowest Number of flights on Sunday: False : It's Saturday\n",
        "\n",
        "\"\"\"\n",
        "dailydf=flights_df.groupby(\"Date\").size().reset_index().rename(columns={0:\"count\"})\n",
        "\n",
        "weekends=[5,6]# Saturday Sunday\n",
        "dailydf.loc[dailydf.Date.dt.dayofweek.isin(weekends),\"weekend?\"]=1\n",
        "dailydf.loc[~(dailydf.Date.dt.dayofweek.isin(weekends)),\"weekend?\"]=0\n",
        "dailydf[\"dayofweek\"]=dailydf[\"Date\"].dt.dayofweek\n",
        "dailydf.head()\n",
        "\n",
        "fig=plt.figure(figsize=(20,22))\n",
        "ax1=fig.add_subplot(311)\n",
        "\n",
        "dailydf.set_index(\"Date\")[\"count\"].plot(ax=ax1)\n",
        "\n",
        "ax2=fig.add_subplot(312)\n",
        "dailydf[\"weekend?\"]=dailydf[\"weekend?\"].map({0:\"weekday\",1:\"weekend\"})\n",
        "dailydf.groupby(\"weekend?\")[\"count\"].sum().plot(kind='bar',ax=ax2)\n",
        "\n",
        "\n",
        "ax3=fig.add_subplot(313)\n",
        "dailydf.groupby(\"dayofweek\")[\"count\"].sum().plot(kind='bar',ax=ax3)\n",
        "\n",
        "dailydf.groupby(\"dayofweek\")[\"count\"].sum()"
      ],
      "execution_count": 199,
      "outputs": [
        {
          "output_type": "execute_result",
          "data": {
            "text/plain": [
              "dayofweek\n",
              "0    1036201\n",
              "1    1032049\n",
              "2    1039665\n",
              "3    1032224\n",
              "4    1035166\n",
              "5     857536\n",
              "6     976887\n",
              "Name: count, dtype: int64"
            ]
          },
          "metadata": {
            "tags": []
          },
          "execution_count": 199
        },
        {
          "output_type": "display_data",
          "data": {
            "image/png": "[encoded data removed]",
            "text/plain": [
              "<Figure size 1440x1584 with 3 Axes>"
            ]
          },
          "metadata": {
            "tags": []
          }
        }
      ]
    },
    {
      "cell_type": "code",
      "metadata": {
        "id": "EkHmmtaKrhxD",
        "colab_type": "code",
        "colab": {
          "base_uri": "https://localhost:8080/",
          "height": 309
        },
        "outputId": "3b164ac7-b6b2-411a-b6da-72dc7346e140"
      },
      "source": [
        "# flights_df.groupby(\"Date\").size().resample(\"W\").sum().plot()\n",
        "dailydf.set_index(\"Date\").resample(\"W\")[\"count\"].sum().plot()"
      ],
      "execution_count": 208,
      "outputs": [
        {
          "output_type": "execute_result",
          "data": {
            "text/plain": [
              "<matplotlib.axes._subplots.AxesSubplot at 0x7f9f4f048c18>"
            ]
          },
          "metadata": {
            "tags": []
          },
          "execution_count": 208
        },
        {
          "output_type": "display_data",
          "data": {
            "image/png": "[encoded data removed]",
            "text/plain": [
              "<Figure size 432x288 with 1 Axes>"
            ]
          },
          "metadata": {
            "tags": []
          }
        }
      ]
    },
    {
      "cell_type": "code",
      "metadata": {
        "id": "xP2qQgPCrhlN",
        "colab_type": "code",
        "colab": {
          "base_uri": "https://localhost:8080/",
          "height": 327
        },
        "outputId": "ea39db39-ffa9-4509-c1a4-ee237149c91d"
      },
      "source": [
        "'''\n",
        "SUMMER HAS MORE FLIGHTS\n",
        "number of flights peak in summer and drops off during winter\n",
        "'''\n",
        "\n",
        "summer=[5,6,7,8]\n",
        "winter=[11,12,1,2]\n",
        "dailydf.loc[dailydf[\"Date\"].dt.month.isin(summer),\"season\"]=\"summer\"\n",
        "dailydf.loc[dailydf[\"Date\"].dt.month.isin(winter),\"season\"]=\"winter\"\n",
        "dailydf.loc[dailydf[\"season\"].isnull(),\"season\"]=\"other\"\n",
        "fig=plt.figure()\n",
        "ax1=fig.add_subplot(211)\n",
        "dailydf.set_index(\"Date\").resample(\"M\")[\"count\"].sum().plot(kind='line',ax=ax1)\n",
        "ax2=fig.add_subplot(212)\n",
        "dailydf.groupby(\"season\")[\"count\"].sum().plot(kind='bar',ax=ax2)\n"
      ],
      "execution_count": 216,
      "outputs": [
        {
          "output_type": "execute_result",
          "data": {
            "text/plain": [
              "<matplotlib.axes._subplots.AxesSubplot at 0x7f9f4eca5898>"
            ]
          },
          "metadata": {
            "tags": []
          },
          "execution_count": 216
        },
        {
          "output_type": "display_data",
          "data": {
            "image/png": "[encoded data removed]",
            "text/plain": [
              "<Figure size 432x288 with 2 Axes>"
            ]
          },
          "metadata": {
            "tags": []
          }
        }
      ]
    },
    {
      "cell_type": "markdown",
      "metadata": {
        "id": "Nq-LotsA6nev",
        "colab_type": "text"
      },
      "source": [
        "**7. Examine the distribution of cancellation reasons with time. Make a bar plot of cancellation reasons aggregated by months.**\n",
        "\n",
        "**Choose all correct statements:**\n",
        "- December has the highest rate of cancellations due to weather. \n",
        "- The highest rate of cancellations in September is due to Security reasons.\n",
        "- April's top cancellation reason is carriers.\n",
        "- Flights cancellations due to National Air System are more frequent than those due to carriers."
      ]
    },
    {
      "cell_type": "code",
      "metadata": {
        "ExecuteTime": {
          "end_time": "2020-04-05T11:11:42.988940Z",
          "start_time": "2020-04-05T11:11:42.984760Z"
        },
        "id": "Geu_jALN6nev",
        "colab_type": "code",
        "colab": {
          "base_uri": "https://localhost:8080/",
          "height": 948
        },
        "outputId": "66d9593a-e013-44b4-ab7c-ac3d4e09b161"
      },
      "source": [
        "# You code here\n",
        "'''\n",
        "December has the highest rate of cancellations due to weather.: True\n",
        "The highest rate of cancellations in September is due to Security reasons.: False\n",
        "April's top cancellation reason is carriers.: True\n",
        "Flights cancellations due to National Air System are more frequent than those due to carriers.: False\n",
        "'''\n",
        "\n",
        "fig=plt.figure(figsize=(20,10))\n",
        "ax1=fig.add_subplot(211)\n",
        "tdf=flights_df.groupby([\"Date\",\"CancellationReason\"]).size().unstack().resample(\"M\").sum()\n",
        "percentage_dist = 100 * tdf.divide(tdf.sum(axis = 1), axis = 0)\n",
        "percentage_dist.plot.bar(stacked=True,ax=ax1)\n",
        "for p in ax1.patches:\n",
        "    width, height = p.get_width(), p.get_height()\n",
        "    x, y = p.get_xy() \n",
        "    ax1.text(x+width/2, \n",
        "            y+height/2, \n",
        "            '{:.0f} %'.format(height), \n",
        "            horizontalalignment='center', \n",
        "            verticalalignment='center')\n",
        "\n",
        "\n",
        "ax1.legend(loc='best')\n",
        "ax2=fig.add_subplot(212)\n",
        "tdf.plot.bar(stacked=False,ax=ax2)\n",
        "ax2.legend(loc='best')\n",
        "tdf"
      ],
      "execution_count": 242,
      "outputs": [
        {
          "output_type": "execute_result",
          "data": {
            "text/html": [
              "<div>\n",
              "<style scoped>\n",
              "    .dataframe tbody tr th:only-of-type {\n",
              "        vertical-align: middle;\n",
              "    }\n",
              "\n",
              "    .dataframe tbody tr th {\n",
              "        vertical-align: top;\n",
              "    }\n",
              "\n",
              "    .dataframe thead th {\n",
              "        text-align: right;\n",
              "    }\n",
              "</style>\n",
              "<table border=\"1\" class=\"dataframe\">\n",
              "  <thead>\n",
              "    <tr style=\"text-align: right;\">\n",
              "      <th>CancellationReason</th>\n",
              "      <th>Carrier</th>\n",
              "      <th>National Air System</th>\n",
              "      <th>Security</th>\n",
              "      <th>Weather</th>\n",
              "    </tr>\n",
              "    <tr>\n",
              "      <th>Date</th>\n",
              "      <th></th>\n",
              "      <th></th>\n",
              "      <th></th>\n",
              "      <th></th>\n",
              "    </tr>\n",
              "  </thead>\n",
              "  <tbody>\n",
              "    <tr>\n",
              "      <th>2008-01-31</th>\n",
              "      <td>6635.0</td>\n",
              "      <td>3962.0</td>\n",
              "      <td>0.0</td>\n",
              "      <td>6711.0</td>\n",
              "    </tr>\n",
              "    <tr>\n",
              "      <th>2008-02-29</th>\n",
              "      <td>6090.0</td>\n",
              "      <td>4470.0</td>\n",
              "      <td>2.0</td>\n",
              "      <td>10034.0</td>\n",
              "    </tr>\n",
              "    <tr>\n",
              "      <th>2008-03-31</th>\n",
              "      <td>6038.0</td>\n",
              "      <td>2621.0</td>\n",
              "      <td>4.0</td>\n",
              "      <td>7520.0</td>\n",
              "    </tr>\n",
              "    <tr>\n",
              "      <th>2008-04-30</th>\n",
              "      <td>7312.0</td>\n",
              "      <td>1564.0</td>\n",
              "      <td>0.0</td>\n",
              "      <td>1479.0</td>\n",
              "    </tr>\n",
              "    <tr>\n",
              "      <th>2008-05-31</th>\n",
              "      <td>3157.0</td>\n",
              "      <td>1608.0</td>\n",
              "      <td>3.0</td>\n",
              "      <td>1461.0</td>\n",
              "    </tr>\n",
              "    <tr>\n",
              "      <th>2008-06-30</th>\n",
              "      <td>4251.0</td>\n",
              "      <td>3232.0</td>\n",
              "      <td>0.0</td>\n",
              "      <td>3448.0</td>\n",
              "    </tr>\n",
              "    <tr>\n",
              "      <th>2008-07-31</th>\n",
              "      <td>5292.0</td>\n",
              "      <td>2694.0</td>\n",
              "      <td>0.0</td>\n",
              "      <td>2612.0</td>\n",
              "    </tr>\n",
              "    <tr>\n",
              "      <th>2008-08-31</th>\n",
              "      <td>3852.0</td>\n",
              "      <td>2401.0</td>\n",
              "      <td>0.0</td>\n",
              "      <td>3582.0</td>\n",
              "    </tr>\n",
              "    <tr>\n",
              "      <th>2008-09-30</th>\n",
              "      <td>2246.0</td>\n",
              "      <td>1188.0</td>\n",
              "      <td>1.0</td>\n",
              "      <td>6478.0</td>\n",
              "    </tr>\n",
              "    <tr>\n",
              "      <th>2008-10-31</th>\n",
              "      <td>2097.0</td>\n",
              "      <td>552.0</td>\n",
              "      <td>0.0</td>\n",
              "      <td>600.0</td>\n",
              "    </tr>\n",
              "    <tr>\n",
              "      <th>2008-11-30</th>\n",
              "      <td>2510.0</td>\n",
              "      <td>1009.0</td>\n",
              "      <td>2.0</td>\n",
              "      <td>937.0</td>\n",
              "    </tr>\n",
              "    <tr>\n",
              "      <th>2008-12-31</th>\n",
              "      <td>4850.0</td>\n",
              "      <td>2887.0</td>\n",
              "      <td>0.0</td>\n",
              "      <td>10042.0</td>\n",
              "    </tr>\n",
              "  </tbody>\n",
              "</table>\n",
              "</div>"
            ],
            "text/plain": [
              "CancellationReason  Carrier  National Air System  Security  Weather\n",
              "Date                                                               \n",
              "2008-01-31           6635.0               3962.0       0.0   6711.0\n",
              "2008-02-29           6090.0               4470.0       2.0  10034.0\n",
              "2008-03-31           6038.0               2621.0       4.0   7520.0\n",
              "2008-04-30           7312.0               1564.0       0.0   1479.0\n",
              "2008-05-31           3157.0               1608.0       3.0   1461.0\n",
              "2008-06-30           4251.0               3232.0       0.0   3448.0\n",
              "2008-07-31           5292.0               2694.0       0.0   2612.0\n",
              "2008-08-31           3852.0               2401.0       0.0   3582.0\n",
              "2008-09-30           2246.0               1188.0       1.0   6478.0\n",
              "2008-10-31           2097.0                552.0       0.0    600.0\n",
              "2008-11-30           2510.0               1009.0       2.0    937.0\n",
              "2008-12-31           4850.0               2887.0       0.0  10042.0"
            ]
          },
          "metadata": {
            "tags": []
          },
          "execution_count": 242
        },
        {
          "output_type": "display_data",
          "data": {
            "image/png": "[encoded data removed]",
            "text/plain": [
              "<Figure size 1440x720 with 2 Axes>"
            ]
          },
          "metadata": {
            "tags": []
          }
        }
      ]
    },
    {
      "cell_type": "markdown",
      "metadata": {
        "id": "Aud4o3_86nez",
        "colab_type": "text"
      },
      "source": [
        "**8. Which month has the greatest number of cancellations due to Carrier?** \n",
        "- May\n",
        "- January\n",
        "- September\n",
        "- April "
      ]
    },
    {
      "cell_type": "code",
      "metadata": {
        "ExecuteTime": {
          "end_time": "2020-04-05T11:11:42.994110Z",
          "start_time": "2020-04-05T11:11:42.990141Z"
        },
        "id": "O0xAhyrE6nez",
        "colab_type": "code",
        "colab": {
          "base_uri": "https://localhost:8080/",
          "height": 139
        },
        "outputId": "7bb53584-7851-41b4-c0c1-1589e2844667"
      },
      "source": [
        "# You code here\n",
        "\"\"\"\n",
        "APRIL\n",
        "\"\"\"\n",
        "tdf[\"Carrier\"].sort_values(ascending=False).head()"
      ],
      "execution_count": 243,
      "outputs": [
        {
          "output_type": "execute_result",
          "data": {
            "text/plain": [
              "Date\n",
              "2008-04-30    7312.0\n",
              "2008-01-31    6635.0\n",
              "2008-02-29    6090.0\n",
              "2008-03-31    6038.0\n",
              "2008-07-31    5292.0\n",
              "Name: Carrier, dtype: float64"
            ]
          },
          "metadata": {
            "tags": []
          },
          "execution_count": 243
        }
      ]
    },
    {
      "cell_type": "markdown",
      "metadata": {
        "id": "kx8-wWjv6ne7",
        "colab_type": "text"
      },
      "source": [
        "**9. Identify the carrier with the greatest number of cancellations due to carrier in the corresponding month from the previous question.**\n",
        "\n",
        "- 9E\n",
        "- EV\n",
        "- HA\n",
        "- AA"
      ]
    },
    {
      "cell_type": "code",
      "metadata": {
        "ExecuteTime": {
          "end_time": "2020-04-05T11:11:42.999605Z",
          "start_time": "2020-04-05T11:11:42.995319Z"
        },
        "id": "6DR2ijdq6ne8",
        "colab_type": "code",
        "colab": {
          "base_uri": "https://localhost:8080/",
          "height": 139
        },
        "outputId": "9186edaf-b15c-4ec4-8946-3f2703c2b1fd"
      },
      "source": [
        "# You code here\n",
        "'''\n",
        "AA\n",
        "'''\n",
        "flights_df[flights_df[\"Month\"]==4].groupby(\"UniqueCarrier\")[\"Cancelled\"].sum().sort_values(ascending=False).head()\n",
        "# flights_df.head()"
      ],
      "execution_count": 250,
      "outputs": [
        {
          "output_type": "execute_result",
          "data": {
            "text/plain": [
              "UniqueCarrier\n",
              "AA    3918.0\n",
              "MQ    1007.0\n",
              "YV     801.0\n",
              "OO     707.0\n",
              "UA     682.0\n",
              "Name: Cancelled, dtype: float64"
            ]
          },
          "metadata": {
            "tags": []
          },
          "execution_count": 250
        }
      ]
    },
    {
      "cell_type": "markdown",
      "metadata": {
        "id": "A5xLgMGd6nfA",
        "colab_type": "text"
      },
      "source": [
        "**10. Examine median arrival and departure delays (in time) by carrier. Which carrier has the lowest median delay time for both arrivals and departures? Leave only non-negative values of delay times ('ArrDelay', 'DepDelay').\n",
        "[Boxplots](https://seaborn.pydata.org/generated/seaborn.boxplot.html) can be helpful in this exercise, as well as it might be a good idea to remove outliers in order to build nice graphs. You can exclude delay time values higher than a corresponding .95 percentile.**\n",
        "\n",
        "- EV\n",
        "- OO\n",
        "- AA\n",
        "- AQ "
      ]
    },
    {
      "cell_type": "code",
      "metadata": {
        "id": "sbHWN6Kb-2kf",
        "colab_type": "code",
        "colab": {
          "base_uri": "https://localhost:8080/",
          "height": 862
        },
        "outputId": "aabd8c9f-b0c7-4f88-9e50-1ae8fbab19d0"
      },
      "source": [
        "''''\n",
        "AQ has low ArrDelay and DepDelay\n",
        "'''\n",
        "\n",
        "\n",
        "fig=plt.figure(figsize=(20,20))\n",
        "ax1=fig.add_subplot(211)\n",
        "ard=flights_df[\"ArrDelay\"]\n",
        "ardulimit=flights_df[\"ArrDelay\"].quantile(0.95)\n",
        "ardllimit=0\n",
        "tdf=flights_df[(flights_df[\"ArrDelay\"]<ardulimit)&(flights_df[\"ArrDelay\"]>ardllimit)]\n",
        "\n",
        "sns.boxplot(x=tdf[\"UniqueCarrier\"],y=tdf[\"ArrDelay\"],ax=ax1)\n",
        "\n",
        "dd=flights_df[\"DepDelay\"]\n",
        "ddulimit=flights_df[\"DepDelay\"].quantile(0.95)\n",
        "ddllimit=0\n",
        "tdf2=flights_df[(flights_df[\"DepDelay\"]<ddulimit)&(flights_df[\"DepDelay\"]>ddllimit)]\n",
        "ax2=fig.add_subplot(212)\n",
        "sns.boxplot(x=tdf[\"UniqueCarrier\"],y=tdf[\"DepDelay\"],ax=ax2)"
      ],
      "execution_count": 278,
      "outputs": [
        {
          "output_type": "execute_result",
          "data": {
            "text/plain": [
              "<matplotlib.axes._subplots.AxesSubplot at 0x7fa01616eef0>"
            ]
          },
          "metadata": {
            "tags": []
          },
          "execution_count": 278
        },
        {
          "output_type": "display_data",
          "data": {
            "image/png": "[encoded data removed]",
            "text/plain": [
              "<Figure size 1440x1440 with 2 Axes>"
            ]
          },
          "metadata": {
            "tags": []
          }
        }
      ]
    }
  ]
}